{
 "cells": [
  {
   "cell_type": "code",
   "execution_count": 1,
   "metadata": {},
   "outputs": [
    {
     "name": "stdout",
     "output_type": "stream",
     "text": [
      "Populating the interactive namespace from numpy and matplotlib\n"
     ]
    }
   ],
   "source": [
    "%pylab inline"
   ]
  },
  {
   "cell_type": "code",
   "execution_count": 2,
   "metadata": {
    "collapsed": true
   },
   "outputs": [],
   "source": [
    "import functools"
   ]
  },
  {
   "cell_type": "markdown",
   "metadata": {},
   "source": [
    "# 1. Série de Taylor\n",
    "\n",
    "Definindo algumas funções analíticas como a série de Taylor correspondente (em volta de $x_0 \\approx 0$), chegamos a:\n",
    "\n",
    "$\n",
    "\\displaystyle \\sin(x) = \\sum_{n \\geq 0} \\frac{(-1)^n x^{2n+1}}{(2n+1)!} \\\\\n",
    "\\displaystyle \\cos(x) = \\sum_{n \\geq 0} \\frac{(-1)^n x^{2n}}{(2n)!} \\\\\n",
    "\\displaystyle \\exp(x) = \\sum_{n \\geq 0} \\frac{x^n}{n!} \\\\\n",
    "\\displaystyle \\ln(1+x) = \\sum_{n \\geq 0} \\frac{(-1)^{n+1} x^n}{n} \\\\\n",
    "\\displaystyle \\frac{1}{1-x} = \\sum_{n \\geq 0} x^n\n",
    "$"
   ]
  },
  {
   "cell_type": "code",
   "execution_count": 3,
   "metadata": {
    "collapsed": true
   },
   "outputs": [],
   "source": [
    "def fatorial(n):\n",
    "    assert n >= 0\n",
    "    r = 1\n",
    "    for k in range(n,0,-1):\n",
    "        r = r*k\n",
    "    return r\n",
    "\n",
    "def matrix_pow(M,expoente):\n",
    "    n,_ = shape(M)\n",
    "    R = eye(n)\n",
    "    Y = M\n",
    "    while expoente >= 1:\n",
    "        if expoente % 2:\n",
    "            R = dot(R,Y)\n",
    "        expoente = expoente // 2\n",
    "        Y = dot(Y,Y)\n",
    "    return R"
   ]
  },
  {
   "cell_type": "code",
   "execution_count": 12,
   "metadata": {
    "collapsed": true
   },
   "outputs": [],
   "source": [
    "def serie(X,termo,m):\n",
    "    u\"\"\"\n",
    "        Função que retorna a soma parcial de uma série. \n",
    "        Dados: \n",
    "            x: número ou matriz\n",
    "            termo: a função que calcula o n-ésimo termo\n",
    "            m: até qual iteração a soma parcial deve ser calculada (quantos termos)\n",
    "    \"\"\"\n",
    "    soma = lambda x1,x2: x1+x2\n",
    "    #return sum([termo(x,n) for n in range(m)]) # funciona para números mas não para matrizes\n",
    "    return functools.reduce(soma,[termo(X,n) for n in range(m)],0*X)"
   ]
  },
  {
   "cell_type": "code",
   "execution_count": 14,
   "metadata": {},
   "outputs": [],
   "source": [
    "def serie_exp(X,m=10):\n",
    "    termo = lambda X,n: matrix_pow(X,n)/fatorial(n)\n",
    "    return serie(X,termo,m)\n",
    "\n",
    "def serie_sin(X,m=10):\n",
    "    termo = lambda X,n: (-1)**n*matrix_pow(X,2*n+1)/fatorial(2*n+1)\n",
    "    return serie(X,termo,m)\n",
    "\n",
    "def serie_cos(X,m=10):\n",
    "    termo = lambda X,n: (-1)**n*matrix_pow(X,2*n)/fatorial(2*n)\n",
    "    return serie(X,termo,m)\n",
    "\n",
    "def serie_geometrica(X,m=10):\n",
    "    termo = lambda X,n: matrix_pow(X,n)\n",
    "    return serie(X,termo,m)\n",
    "\n",
    "def serie_log(X,m=10):\n",
    "    pass"
   ]
  },
  {
   "cell_type": "markdown",
   "metadata": {},
   "source": [
    "## 1.1. Convergência\n",
    "\n",
    "### 1.1.1 Convergência da Exponencial\n",
    "\n",
    "Para ganhar alguma intuição sobre a convergência da exponencial, é bom ver que o crescimento de $k^x,\\: k$ constante, é assintoticamente dominado pela fatorial."
   ]
  },
  {
   "cell_type": "code",
   "execution_count": 5,
   "metadata": {
    "collapsed": true
   },
   "outputs": [],
   "source": [
    "def fatorial_continua(xs):\n",
    "    xs = array(xs)\n",
    "    assert xs.all() >= 0\n",
    "    fs = array([1 for x in xs])\n",
    "    for i,x in enumerate(xs):\n",
    "        for _ in range(int(x),0,-1):\n",
    "            fs[i] *= x\n",
    "            x -= 1\n",
    "    return fs"
   ]
  },
  {
   "cell_type": "code",
   "execution_count": 6,
   "metadata": {},
   "outputs": [
    {
     "data": {
      "image/png": "[encoded data removed]",
      "text/plain": [
       "<matplotlib.figure.Figure at 0x7f0f41cb14a8>"
      ]
     },
     "metadata": {},
     "output_type": "display_data"
    }
   ],
   "source": [
    "t = linspace(0,20,40)\n",
    "\n",
    "figure(figsize=(8,5))\n",
    "yscale('log')\n",
    "title('fatorial vs exponenciais')\n",
    "plot(t,fatorial_continua(t),label='$t$ !')\n",
    "plot(t,exp(t),label='$e^t$')\n",
    "plot(t,power(5,t),label='$5^t$')\n",
    "legend();"
   ]
  },
  {
   "cell_type": "markdown",
   "metadata": {},
   "source": [
    "### 1.1.2 Convergência da Série Geométricca\n",
    "\n",
    "Outras séries podem só convergir em condições específicas. A Série Geométrica depende de $\\lvert x \\rvert < 1, \\: x \\in \\mathbb{C}$.\n",
    "\n",
    "Não tenho certeza quanto a necessidade, mas consigo mostrar que é suficiente para matrizes dizer que $\\lVert A \\rVert$ < 1, para alguma norma em que $\\lVert AB \\rVert \\leq \\lVert A \\rVert \\cdot \\lVert B \\rVert$"
   ]
  },
  {
   "cell_type": "code",
   "execution_count": 44,
   "metadata": {},
   "outputs": [
    {
     "data": {
      "text/plain": [
       "array([[ 0.25934332,  0.27998919],\n",
       "       [ 0.27998919,  0.56401334]])"
      ]
     },
     "execution_count": 44,
     "metadata": {},
     "output_type": "execute_result"
    }
   ],
   "source": [
    "# defino matriz simétrica com norma < 1 (uso a norma de Frobenius por conveniência)\n",
    "A = rand(2,2)\n",
    "A[0,1] = A[1,0]\n",
    "while norm(A,'fro') >= 1:\n",
    "    A = rand(2,2)\n",
    "    A[0,1] = A[1,0]\n",
    "A"
   ]
  },
  {
   "cell_type": "code",
   "execution_count": 51,
   "metadata": {},
   "outputs": [
    {
     "data": {
      "text/plain": [
       "array([[ 0.97198084,  0.        ],\n",
       "       [ 0.        ,  0.17017378]])"
      ]
     },
     "execution_count": 51,
     "metadata": {},
     "output_type": "execute_result"
    }
   ],
   "source": [
    "# defino uma matriz diagonal também com norma < 1\n",
    "d = rand(2)\n",
    "while norm(d) >= 1:\n",
    "    d = rand(2)\n",
    "D = diag(d)\n",
    "D"
   ]
  },
  {
   "cell_type": "code",
   "execution_count": 75,
   "metadata": {
    "collapsed": true
   },
   "outputs": [],
   "source": [
    "n,_ = shape(A)\n",
    "Id = eye(n)"
   ]
  },
  {
   "cell_type": "code",
   "execution_count": null,
   "metadata": {
    "collapsed": true
   },
   "outputs": [],
   "source": [
    "# Plotar convergência das somas parciais\n",
    "# Plotar termo indo para zero"
   ]
  },
  {
   "cell_type": "markdown",
   "metadata": {},
   "source": [
    "## 1.2. Outras Equivalências\n",
    "\n",
    "Se estamos definindo essas funções dessa forma, é razoável exigir que relações que valem para números valham para matrizes, ou seja:\n",
    "\n",
    "$\n",
    "\\sin^2(A) + \\cos^2(A) = I \\\\\n",
    "\\displaystyle e^{\\log(I+A)} = I+A \\\\\n",
    "\\displaystyle \\sum_{n \\geq 0} A^n = (I - A)^{-1}\n",
    "$"
   ]
  },
  {
   "cell_type": "code",
   "execution_count": 73,
   "metadata": {},
   "outputs": [
    {
     "data": {
      "text/plain": [
       "True"
      ]
     },
     "execution_count": 73,
     "metadata": {},
     "output_type": "execute_result"
    }
   ],
   "source": [
    "all(serie_sin(A)**2 + serie_cos(A)**2 - Id <= 1e-1)"
   ]
  },
  {
   "cell_type": "code",
   "execution_count": 74,
   "metadata": {},
   "outputs": [
    {
     "data": {
      "text/plain": [
       "True"
      ]
     },
     "execution_count": 74,
     "metadata": {},
     "output_type": "execute_result"
    }
   ],
   "source": [
    "all(serie_geometrica(A,100) - inv(Id - A) <= 1e-9)"
   ]
  },
  {
   "cell_type": "code",
   "execution_count": null,
   "metadata": {
    "collapsed": true
   },
   "outputs": [],
   "source": [
    "# Plotar curva dos autovalores da matriz do problema"
   ]
  }
 ],
 "metadata": {
  "kernelspec": {
   "display_name": "Python 3",
   "language": "python",
   "name": "python3"
  },
  "language_info": {
   "codemirror_mode": {
    "name": "ipython",
    "version": 3
   },
   "file_extension": ".py",
   "mimetype": "text/x-python",
   "name": "python",
   "nbconvert_exporter": "python",
   "pygments_lexer": "ipython3",
   "version": "3.6.0"
  }
 },
 "nbformat": 4,
 "nbformat_minor": 2
}
